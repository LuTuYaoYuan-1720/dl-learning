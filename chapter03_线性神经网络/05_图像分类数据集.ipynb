{
 "cells": [
  {
   "cell_type": "code",
   "execution_count": 1,
   "id": "b9cee4f4",
   "metadata": {
    "ExecuteTime": {
     "end_time": "2022-04-12T03:27:06.403004Z",
     "start_time": "2022-04-12T03:27:05.418444Z"
    }
   },
   "outputs": [],
   "source": [
    "%matplotlib inline\n",
    "import torch\n",
    "import torchvision\n",
    "from torch.utils import data\n",
    "from torchvision import transforms\n",
    "from d2l import torch as d2l\n",
    "\n",
    "d2l.use_svg_display()"
   ]
  },
  {
   "cell_type": "code",
   "execution_count": 2,
   "id": "0bf428bd",
   "metadata": {
    "ExecuteTime": {
     "end_time": "2022-04-12T03:27:06.418548Z",
     "start_time": "2022-04-12T03:27:06.405005Z"
    }
   },
   "outputs": [],
   "source": [
    "# 通过ToTensor实例将图像数据从PIL类型变换成32位浮点数格式，\n",
    "# 并除以255使得所有像素的数值均在0到1之间\n",
    "trans = transforms.ToTensor()"
   ]
  },
  {
   "cell_type": "code",
   "execution_count": 3,
   "id": "35db38e3",
   "metadata": {
    "ExecuteTime": {
     "end_time": "2022-04-12T03:27:06.464634Z",
     "start_time": "2022-04-12T03:27:06.419475Z"
    }
   },
   "outputs": [],
   "source": [
    "mnist_train = torchvision.datasets.FashionMNIST(root='../data', train=True, transform=trans, download=True)\n",
    "mnist_test = torchvision.datasets.FashionMNIST(root='../data', train=False, transform=trans, download=True)"
   ]
  },
  {
   "cell_type": "code",
   "execution_count": 4,
   "id": "90acd19d",
   "metadata": {
    "ExecuteTime": {
     "end_time": "2022-04-12T03:27:06.480207Z",
     "start_time": "2022-04-12T03:27:06.466631Z"
    }
   },
   "outputs": [
    {
     "data": {
      "text/plain": [
       "(60000, 10000)"
      ]
     },
     "execution_count": 4,
     "metadata": {},
     "output_type": "execute_result"
    }
   ],
   "source": [
    "len(mnist_train), len(mnist_test)"
   ]
  },
  {
   "cell_type": "code",
   "execution_count": 5,
   "id": "2307f1e3",
   "metadata": {
    "ExecuteTime": {
     "end_time": "2022-04-12T03:27:06.495641Z",
     "start_time": "2022-04-12T03:27:06.481630Z"
    }
   },
   "outputs": [
    {
     "data": {
      "text/plain": [
       "torch.Size([1, 28, 28])"
      ]
     },
     "execution_count": 5,
     "metadata": {},
     "output_type": "execute_result"
    }
   ],
   "source": [
    "# 第一张图片的形状\n",
    "mnist_train[0][0].shape"
   ]
  },
  {
   "cell_type": "code",
   "execution_count": 6,
   "id": "a7c2bc72",
   "metadata": {
    "ExecuteTime": {
     "end_time": "2022-04-12T03:27:06.511145Z",
     "start_time": "2022-04-12T03:27:06.496642Z"
    }
   },
   "outputs": [
    {
     "data": {
      "text/plain": [
       "9"
      ]
     },
     "execution_count": 6,
     "metadata": {},
     "output_type": "execute_result"
    }
   ],
   "source": [
    "# 第一张图片的标签\n",
    "mnist_train[0][1]"
   ]
  },
  {
   "cell_type": "code",
   "execution_count": 7,
   "id": "bacec621",
   "metadata": {
    "ExecuteTime": {
     "end_time": "2022-04-12T03:27:06.526678Z",
     "start_time": "2022-04-12T03:27:06.512141Z"
    }
   },
   "outputs": [],
   "source": [
    "# 传入标签返回文本名称\n",
    "def get_fashion_mnist_labels(labels):  #@save\n",
    "    \"\"\"返回Fashion-MNIST数据集的文本标签\"\"\"\n",
    "    text_labels = ['t-shirt', 'trouser', 'pullover', 'dress', 'coat',\n",
    "                   'sandal', 'shirt', 'sneaker', 'bag', 'ankle boot']\n",
    "    return [text_labels[int(i)] for i in labels]"
   ]
  },
  {
   "cell_type": "code",
   "execution_count": 8,
   "id": "18bc49c0",
   "metadata": {
    "ExecuteTime": {
     "end_time": "2022-04-12T03:27:06.542183Z",
     "start_time": "2022-04-12T03:27:06.527678Z"
    }
   },
   "outputs": [],
   "source": [
    "# 可视化样本\n",
    "def show_images(imgs, num_rows, num_cols, titles=None, scale=1.5):  #@save\n",
    "    \"\"\"绘制图像列表\"\"\"\n",
    "    figsize = (num_cols * scale, num_rows * scale)\n",
    "    _, axes = d2l.plt.subplots(num_rows, num_cols, figsize=figsize)\n",
    "    axes = axes.flatten()\n",
    "    for i, (ax, img) in enumerate(zip(axes, imgs)):\n",
    "        if torch.is_tensor(img):\n",
    "            # 图片张量\n",
    "            ax.imshow(img.numpy())\n",
    "        else:\n",
    "            # PIL图片\n",
    "            ax.imshow(img)\n",
    "        ax.axes.get_xaxis().set_visible(False)\n",
    "        ax.axes.get_yaxis().set_visible(False)\n",
    "        if titles:\n",
    "            ax.set_title(titles[i])\n",
    "    return axes"
   ]
  },
  {
   "cell_type": "code",
   "execution_count": null,
   "id": "3c4777a5",
   "metadata": {
    "ExecuteTime": {
     "start_time": "2022-04-12T03:27:05.427Z"
    },
    "scrolled": true
   },
   "outputs": [],
   "source": [
    "X, y = next(iter(data.DataLoader(mnist_train, batch_size=18)))\n",
    "show_images(X.reshape(18, 28, 28), 2, 9, titles=get_fashion_mnist_labels(y));"
   ]
  },
  {
   "cell_type": "code",
   "execution_count": null,
   "id": "dfe81d4c",
   "metadata": {
    "ExecuteTime": {
     "start_time": "2022-04-12T03:27:05.429Z"
    }
   },
   "outputs": [],
   "source": [
    "y"
   ]
  },
  {
   "cell_type": "code",
   "execution_count": null,
   "id": "9fb509ea",
   "metadata": {
    "ExecuteTime": {
     "start_time": "2022-04-12T03:27:05.429Z"
    }
   },
   "outputs": [],
   "source": [
    "X.shape"
   ]
  },
  {
   "cell_type": "markdown",
   "id": "71273621",
   "metadata": {},
   "source": [
    "## 读取小批量"
   ]
  },
  {
   "cell_type": "code",
   "execution_count": null,
   "id": "29610d9b",
   "metadata": {
    "ExecuteTime": {
     "start_time": "2022-04-12T03:27:05.431Z"
    }
   },
   "outputs": [],
   "source": [
    "batch_size = 256\n",
    "\n",
    "def get_dataloader_workers():   #@save\n",
    "    \"\"\"使用4个进程来读取数据\"\"\"\n",
    "    return 4\n",
    "\n",
    "train_iter = data.DataLoader(mnist_train, batch_size, shuffle=True)"
   ]
  },
  {
   "cell_type": "code",
   "execution_count": null,
   "id": "f8fa397b",
   "metadata": {
    "ExecuteTime": {
     "start_time": "2022-04-12T03:27:05.432Z"
    }
   },
   "outputs": [],
   "source": [
    "# 读取一边数据看所需的时间\n",
    "timer = d2l.Timer()\n",
    "for X, y in train_iter:\n",
    "    continue\n",
    "    \n",
    "f'{timer.stop():.2f} sec'"
   ]
  },
  {
   "cell_type": "code",
   "execution_count": null,
   "id": "beb093d7",
   "metadata": {
    "ExecuteTime": {
     "start_time": "2022-04-12T03:27:05.433Z"
    }
   },
   "outputs": [],
   "source": [
    "# 现在我们定义load_data_fashion_mnist函数，用于获取和读取Fashion-MNIST数据集。 \n",
    "# 这个函数返回训练集和验证集的数据迭代器。 此外，这个函数还接受一个可选参数resize，\n",
    "# 用来将图像大小调整为另一种形状。\n",
    "def load_data_fashion_mnist(batch_size, resize=None):  #@save\n",
    "    \"\"\"下载Fashion-MNIST数据集，然后将其加载到内存中\"\"\"\n",
    "    trans = [transforms.ToTensor()]\n",
    "    if resize:\n",
    "        trans.insert(0, transforms.Resize(resize))\n",
    "    trans = transforms.Compose(trans)\n",
    "    mnist_train = torchvision.datasets.FashionMNIST(\n",
    "        root=\"../data\", train=True, transform=trans, download=True)\n",
    "    mnist_test = torchvision.datasets.FashionMNIST(\n",
    "        root=\"../data\", train=False, transform=trans, download=True)\n",
    "    return (data.DataLoader(mnist_train, batch_size, shuffle=True),\n",
    "            data.DataLoader(mnist_test, batch_size, shuffle=False))"
   ]
  },
  {
   "cell_type": "code",
   "execution_count": null,
   "id": "1712ac33",
   "metadata": {
    "ExecuteTime": {
     "start_time": "2022-04-12T03:27:05.433Z"
    }
   },
   "outputs": [],
   "source": [
    "train_iter, test_iter = load_data_fashion_mnist(32, resize=64)\n",
    "for X, y in train_iter:\n",
    "    print(X.shape, X.dtype, y.shape, y.dtype)\n",
    "    break"
   ]
  },
  {
   "cell_type": "code",
   "execution_count": null,
   "id": "fd67d495",
   "metadata": {},
   "outputs": [],
   "source": []
  },
  {
   "cell_type": "code",
   "execution_count": null,
   "id": "050973ac",
   "metadata": {},
   "outputs": [],
   "source": []
  }
 ],
 "metadata": {
  "kernelspec": {
   "display_name": "dl",
   "language": "python",
   "name": "dl"
  },
  "language_info": {
   "codemirror_mode": {
    "name": "ipython",
    "version": 3
   },
   "file_extension": ".py",
   "mimetype": "text/x-python",
   "name": "python",
   "nbconvert_exporter": "python",
   "pygments_lexer": "ipython3",
   "version": "3.8.12"
  }
 },
 "nbformat": 4,
 "nbformat_minor": 5
}
