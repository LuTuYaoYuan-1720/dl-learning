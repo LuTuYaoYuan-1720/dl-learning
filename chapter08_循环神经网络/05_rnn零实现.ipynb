{
 "cells": [
  {
   "cell_type": "code",
   "execution_count": 1,
   "id": "1800fceb",
   "metadata": {
    "ExecuteTime": {
     "end_time": "2022-04-24T13:33:16.196022Z",
     "start_time": "2022-04-24T13:33:15.158961Z"
    }
   },
   "outputs": [],
   "source": [
    "%matplotlib inline\n",
    "import math\n",
    "import torch\n",
    "from torch import nn\n",
    "from torch.nn import functional as F\n",
    "from d2l import torch as d2l\n",
    "\n",
    "import os\n",
    "os.environ[\"KMP_DUPLICATE_LIB_OK\"] = \"TRUE\""
   ]
  },
  {
   "cell_type": "code",
   "execution_count": 2,
   "id": "cbe8aaba",
   "metadata": {
    "ExecuteTime": {
     "end_time": "2022-04-24T13:33:16.289163Z",
     "start_time": "2022-04-24T13:33:16.197460Z"
    }
   },
   "outputs": [],
   "source": [
    "batch_size, num_steps = 32, 35\n",
    "train_iter, vocab = d2l.load_data_time_machine(batch_size,num_steps)"
   ]
  },
  {
   "cell_type": "code",
   "execution_count": 3,
   "id": "73d5819a",
   "metadata": {
    "ExecuteTime": {
     "end_time": "2022-04-24T13:33:16.304635Z",
     "start_time": "2022-04-24T13:33:16.290557Z"
    }
   },
   "outputs": [
    {
     "name": "stdout",
     "output_type": "stream",
     "text": [
      "tensor([[ 1, 13,  4,  ..., 10,  4, 22],\n",
      "        [ 9,  2,  1,  ..., 11,  1,  5],\n",
      "        [ 2,  4,  6,  ...,  5, 12, 19],\n",
      "        ...,\n",
      "        [14, 10,  2,  ...,  2, 16,  7],\n",
      "        [12, 12,  5,  ...,  2,  1,  2],\n",
      "        [ 6,  5,  8,  ...,  8,  4,  3]]) torch.Size([32, 35])\n",
      "[' ', 'm', 'a', 'c', 'h', 'i', 'n', 'e', ' ', 'b', 'y', ' ', 'h', ' ', 'g', ' ', 'w', 'e', 'l', 'l', 's', 'i', 't', 'h', 'e', ' ', 't', 'i', 'm', 'e', ' ', 't', 'r', 'a', 'v']\n",
      "tensor([[13,  4, 15,  ...,  4, 22,  2],\n",
      "        [ 2,  1, 21,  ...,  1,  5,  6],\n",
      "        [ 4,  6,  1,  ..., 12, 19,  4],\n",
      "        ...,\n",
      "        [10,  2, 10,  ..., 16,  7, 10],\n",
      "        [12,  5,  6,  ...,  1,  2, 24],\n",
      "        [ 5,  8, 13,  ...,  4,  3,  1]]) torch.Size([32, 35])\n",
      "['m', 'a', 'c', 'h', 'i', 'n', 'e', ' ', 'b', 'y', ' ', 'h', ' ', 'g', ' ', 'w', 'e', 'l', 'l', 's', 'i', 't', 'h', 'e', ' ', 't', 'i', 'm', 'e', ' ', 't', 'r', 'a', 'v', 'e']\n"
     ]
    }
   ],
   "source": [
    "for X, Y in train_iter:\n",
    "    print(X, X.shape)\n",
    "    print(vocab.to_tokens(list(X[0])))\n",
    "    print(Y, Y.shape)\n",
    "    print(vocab.to_tokens(list(Y[0])))\n",
    "    break"
   ]
  },
  {
   "cell_type": "markdown",
   "id": "7f0f6b2b",
   "metadata": {},
   "source": [
    "### one-hot编码"
   ]
  },
  {
   "cell_type": "code",
   "execution_count": 4,
   "id": "44e36db2",
   "metadata": {
    "ExecuteTime": {
     "end_time": "2022-04-24T13:33:16.320084Z",
     "start_time": "2022-04-24T13:33:16.305557Z"
    }
   },
   "outputs": [
    {
     "data": {
      "text/plain": [
       "tensor([[1, 0, 0, 0, 0, 0, 0, 0, 0, 0, 0, 0, 0, 0, 0, 0, 0, 0, 0, 0, 0, 0, 0, 0,\n",
       "         0, 0, 0, 0],\n",
       "        [0, 0, 1, 0, 0, 0, 0, 0, 0, 0, 0, 0, 0, 0, 0, 0, 0, 0, 0, 0, 0, 0, 0, 0,\n",
       "         0, 0, 0, 0]])"
      ]
     },
     "execution_count": 4,
     "metadata": {},
     "output_type": "execute_result"
    }
   ],
   "source": [
    "F.one_hot(torch.tensor([0, 2]), len(vocab))"
   ]
  },
  {
   "cell_type": "code",
   "execution_count": 5,
   "id": "1b69d663",
   "metadata": {
    "ExecuteTime": {
     "end_time": "2022-04-24T13:33:16.335667Z",
     "start_time": "2022-04-24T13:33:16.321081Z"
    }
   },
   "outputs": [
    {
     "data": {
      "text/plain": [
       "(tensor([[0, 5],\n",
       "         [1, 6],\n",
       "         [2, 7],\n",
       "         [3, 8],\n",
       "         [4, 9]]),\n",
       " tensor([[[1, 0, 0, 0, 0, 0, 0, 0, 0, 0, 0, 0, 0, 0, 0, 0, 0, 0, 0, 0, 0, 0, 0,\n",
       "           0, 0, 0, 0, 0],\n",
       "          [0, 0, 0, 0, 0, 1, 0, 0, 0, 0, 0, 0, 0, 0, 0, 0, 0, 0, 0, 0, 0, 0, 0,\n",
       "           0, 0, 0, 0, 0]],\n",
       " \n",
       "         [[0, 1, 0, 0, 0, 0, 0, 0, 0, 0, 0, 0, 0, 0, 0, 0, 0, 0, 0, 0, 0, 0, 0,\n",
       "           0, 0, 0, 0, 0],\n",
       "          [0, 0, 0, 0, 0, 0, 1, 0, 0, 0, 0, 0, 0, 0, 0, 0, 0, 0, 0, 0, 0, 0, 0,\n",
       "           0, 0, 0, 0, 0]],\n",
       " \n",
       "         [[0, 0, 1, 0, 0, 0, 0, 0, 0, 0, 0, 0, 0, 0, 0, 0, 0, 0, 0, 0, 0, 0, 0,\n",
       "           0, 0, 0, 0, 0],\n",
       "          [0, 0, 0, 0, 0, 0, 0, 1, 0, 0, 0, 0, 0, 0, 0, 0, 0, 0, 0, 0, 0, 0, 0,\n",
       "           0, 0, 0, 0, 0]],\n",
       " \n",
       "         [[0, 0, 0, 1, 0, 0, 0, 0, 0, 0, 0, 0, 0, 0, 0, 0, 0, 0, 0, 0, 0, 0, 0,\n",
       "           0, 0, 0, 0, 0],\n",
       "          [0, 0, 0, 0, 0, 0, 0, 0, 1, 0, 0, 0, 0, 0, 0, 0, 0, 0, 0, 0, 0, 0, 0,\n",
       "           0, 0, 0, 0, 0]],\n",
       " \n",
       "         [[0, 0, 0, 0, 1, 0, 0, 0, 0, 0, 0, 0, 0, 0, 0, 0, 0, 0, 0, 0, 0, 0, 0,\n",
       "           0, 0, 0, 0, 0],\n",
       "          [0, 0, 0, 0, 0, 0, 0, 0, 0, 1, 0, 0, 0, 0, 0, 0, 0, 0, 0, 0, 0, 0, 0,\n",
       "           0, 0, 0, 0, 0]]]))"
      ]
     },
     "execution_count": 5,
     "metadata": {},
     "output_type": "execute_result"
    }
   ],
   "source": [
    "X = torch.arange(10).reshape(2, 5)\n",
    "X.T, F.one_hot(X.T, 28)"
   ]
  },
  {
   "cell_type": "markdown",
   "id": "e18d8d29",
   "metadata": {},
   "source": [
    "### 初始化模型参数"
   ]
  },
  {
   "cell_type": "code",
   "execution_count": 6,
   "id": "6fd78b3b",
   "metadata": {
    "ExecuteTime": {
     "end_time": "2022-04-24T13:33:16.351207Z",
     "start_time": "2022-04-24T13:33:16.336589Z"
    }
   },
   "outputs": [],
   "source": [
    "def get_params(vocab_size, num_hiddens, device):\n",
    "    num_inputs = num_outputs = vocab_size\n",
    "    \n",
    "    def normal(shape):\n",
    "        return torch.randn(size=shape, device=device) * 0.01\n",
    "    \n",
    "    # 隐藏层参数\n",
    "    W_xh = normal((num_inputs, num_hiddens))\n",
    "    W_hh = normal((num_hiddens, num_hiddens))\n",
    "    b_h = torch.zeros(num_hiddens, device=device)\n",
    "    # 输出层参数\n",
    "    W_hq = normal((num_hiddens, num_outputs))\n",
    "    b_q = torch.zeros(num_outputs, device=device)\n",
    "    # 附加梯度\n",
    "    params = [W_xh, W_hh, b_h, W_hq, b_q]\n",
    "    for param in params:\n",
    "        param.requires_grad_(True)\n",
    "    return params"
   ]
  },
  {
   "cell_type": "code",
   "execution_count": 7,
   "id": "97c917f3",
   "metadata": {
    "ExecuteTime": {
     "end_time": "2022-04-24T13:33:16.366650Z",
     "start_time": "2022-04-24T13:33:16.352590Z"
    }
   },
   "outputs": [],
   "source": [
    "# 在初始化时返回隐状态\n",
    "def init_rnn_state(batch_size, num_hiddens, device):\n",
    "    return (torch.zeros((batch_size, num_hiddens), device=device), )"
   ]
  },
  {
   "cell_type": "code",
   "execution_count": 8,
   "id": "b5ac2ce0",
   "metadata": {
    "ExecuteTime": {
     "end_time": "2022-04-24T13:33:16.382145Z",
     "start_time": "2022-04-24T13:33:16.367590Z"
    }
   },
   "outputs": [],
   "source": [
    "def rnn(inputs, state, params):\n",
    "    # inputs [时间步数量，批量大小， 词表大小]\n",
    "    W_xh, W_hh, b_h, W_hq, b_q = params\n",
    "    H, = state\n",
    "    outputs = []\n",
    "    for X in inputs:\n",
    "        H = torch.tanh(torch.mm(X, W_xh) + torch.mm(H, W_hh) + b_h)\n",
    "        Y = torch.mm(H, W_hq) + b_q\n",
    "        outputs.append(Y)\n",
    "    return torch.cat(outputs, dim=0), (H,)"
   ]
  },
  {
   "cell_type": "code",
   "execution_count": 9,
   "id": "9c13b2a7",
   "metadata": {
    "ExecuteTime": {
     "end_time": "2022-04-24T13:33:16.397594Z",
     "start_time": "2022-04-24T13:33:16.383594Z"
    }
   },
   "outputs": [],
   "source": [
    "#@save\n",
    "class RNNModelScratch:\n",
    "    def __init__(self, vocab_size, num_hiddens, device, get_params, init_state, forward_fn):\n",
    "        self.vocab_size, self.num_hiddens = vocab_size, num_hiddens\n",
    "        self.params = get_params(vocab_size, num_hiddens, device)\n",
    "        self.init_state, self.forward_fn = init_state, forward_fn\n",
    "    \n",
    "    def __call__(self, X, state):\n",
    "        X = F.one_hot(X.T, self.vocab_size).type(torch.float32)\n",
    "        return self.forward_fn(X, state, self.params)\n",
    "\n",
    "    def begin_state(self, batch_size, device):\n",
    "        return self.init_state(batch_size, self.num_hiddens, device)"
   ]
  },
  {
   "cell_type": "code",
   "execution_count": 10,
   "id": "0c459b27",
   "metadata": {
    "ExecuteTime": {
     "end_time": "2022-04-24T13:33:18.118193Z",
     "start_time": "2022-04-24T13:33:16.398590Z"
    }
   },
   "outputs": [
    {
     "data": {
      "text/plain": [
       "(torch.Size([10, 28]), 1, torch.Size([2, 512]))"
      ]
     },
     "execution_count": 10,
     "metadata": {},
     "output_type": "execute_result"
    }
   ],
   "source": [
    "num_hiddens = 512\n",
    "net = RNNModelScratch(len(vocab), num_hiddens, d2l.try_gpu(), get_params, init_rnn_state, rnn)\n",
    "state = net.begin_state(X.shape[0], d2l.try_gpu())\n",
    "Y, new_state = net(X.to(d2l.try_gpu()), state)\n",
    "Y.shape, len(new_state), new_state[0].shape"
   ]
  },
  {
   "cell_type": "code",
   "execution_count": 11,
   "id": "f4833b75",
   "metadata": {
    "ExecuteTime": {
     "end_time": "2022-04-24T13:51:46.522033Z",
     "start_time": "2022-04-24T13:51:46.505533Z"
    }
   },
   "outputs": [],
   "source": [
    "#@save\n",
    "def predict_ch8(prefix, num_preds, net, vocab, device):\n",
    "    state = net.begin_state(batch_size=1, device=device)\n",
    "    outputs = [vocab[prefix[0]]]\n",
    "    get_input = lambda: torch.tensor([outputs[-1]], device=device).reshape((1, 1))\n",
    "    for y in prefix[1:]:\n",
    "        _, state = net(get_input(), state)\n",
    "        outputs.append(vocab[y])\n",
    "    for _ in range(num_preds):\n",
    "        y, state = net(get_input(), state)\n",
    "        outputs.append(int(y.argmax(dim=1).reshape(1)))\n",
    "    return ''.join([vocab.idx_to_token[i] for i in outputs])"
   ]
  },
  {
   "cell_type": "code",
   "execution_count": 12,
   "id": "c820620a",
   "metadata": {
    "ExecuteTime": {
     "end_time": "2022-04-24T13:52:22.014702Z",
     "start_time": "2022-04-24T13:52:21.965614Z"
    }
   },
   "outputs": [
    {
     "data": {
      "text/plain": [
       "'time traveller zktrruwmbo'"
      ]
     },
     "execution_count": 12,
     "metadata": {},
     "output_type": "execute_result"
    }
   ],
   "source": [
    "predict_ch8('time traveller ', 10, net, vocab, d2l.try_gpu())"
   ]
  },
  {
   "cell_type": "code",
   "execution_count": 13,
   "id": "babea1b3",
   "metadata": {
    "ExecuteTime": {
     "end_time": "2022-04-24T14:07:54.400739Z",
     "start_time": "2022-04-24T14:07:54.391653Z"
    }
   },
   "outputs": [],
   "source": [
    "def grad_clipping(net, theta):  #@save\n",
    "    \"\"\"裁剪梯度\"\"\"\n",
    "    if isinstance(net, nn.Module):\n",
    "        params = [p for p in net.parameters() if p.requires_grad]\n",
    "    else:\n",
    "        params = net.params\n",
    "    norm = torch.sqrt(sum(torch.sum((p.grad ** 2)) for p in params))\n",
    "    if norm > theta:\n",
    "        for param in params:\n",
    "            param.grad[:] *= theta / norm"
   ]
  },
  {
   "cell_type": "code",
   "execution_count": null,
   "id": "5a854141",
   "metadata": {},
   "outputs": [],
   "source": []
  },
  {
   "cell_type": "code",
   "execution_count": null,
   "id": "aae06938",
   "metadata": {},
   "outputs": [],
   "source": []
  },
  {
   "cell_type": "code",
   "execution_count": null,
   "id": "a6a8258d",
   "metadata": {},
   "outputs": [],
   "source": []
  }
 ],
 "metadata": {
  "kernelspec": {
   "display_name": "dl",
   "language": "python",
   "name": "dl"
  },
  "language_info": {
   "codemirror_mode": {
    "name": "ipython",
    "version": 3
   },
   "file_extension": ".py",
   "mimetype": "text/x-python",
   "name": "python",
   "nbconvert_exporter": "python",
   "pygments_lexer": "ipython3",
   "version": "3.8.12"
  }
 },
 "nbformat": 4,
 "nbformat_minor": 5
}
